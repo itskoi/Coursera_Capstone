{
 "cells": [
  {
   "cell_type": "markdown",
   "id": "5156e772",
   "metadata": {},
   "source": [
    "# Capstone Project Notebook"
   ]
  },
  {
   "cell_type": "markdown",
   "id": "33480df2",
   "metadata": {},
   "source": [
    "This notebook is used for *Applied Data Science Capstone* course on `Coursera`"
   ]
  },
  {
   "cell_type": "code",
   "execution_count": 1,
   "id": "fde27a3f",
   "metadata": {
    "ExecuteTime": {
     "end_time": "2021-06-15T03:52:21.759412Z",
     "start_time": "2021-06-15T03:52:21.223680Z"
    }
   },
   "outputs": [],
   "source": [
    "import numpy as np\n",
    "import pandas as pd"
   ]
  },
  {
   "cell_type": "code",
   "execution_count": 3,
   "id": "075a3724",
   "metadata": {
    "ExecuteTime": {
     "end_time": "2021-06-15T03:52:34.178417Z",
     "start_time": "2021-06-15T03:52:34.175144Z"
    }
   },
   "outputs": [
    {
     "name": "stdout",
     "output_type": "stream",
     "text": [
      "Hello Capstone Project Course!\n"
     ]
    }
   ],
   "source": [
    "print('Hello Capstone Project Course!')"
   ]
  }
 ],
 "metadata": {
  "kernelspec": {
   "display_name": "Anaconda (base)",
   "language": "python",
   "name": "anaconda-base"
  },
  "language_info": {
   "codemirror_mode": {
    "name": "ipython",
    "version": 3
   },
   "file_extension": ".py",
   "mimetype": "text/x-python",
   "name": "python",
   "nbconvert_exporter": "python",
   "pygments_lexer": "ipython3",
   "version": "3.8.10"
  },
  "latex_envs": {
   "LaTeX_envs_menu_present": true,
   "autoclose": true,
   "autocomplete": true,
   "bibliofile": "biblio.bib",
   "cite_by": "apalike",
   "current_citInitial": 1,
   "eqLabelWithNumbers": true,
   "eqNumInitial": 1,
   "hotkeys": {
    "equation": "Ctrl-E",
    "itemize": "Ctrl-I"
   },
   "labels_anchors": false,
   "latex_user_defs": false,
   "report_style_numbering": false,
   "user_envs_cfg": false
  },
  "toc": {
   "base_numbering": 1,
   "nav_menu": {},
   "number_sections": true,
   "sideBar": true,
   "skip_h1_title": false,
   "title_cell": "Table of Contents",
   "title_sidebar": "Contents",
   "toc_cell": false,
   "toc_position": {},
   "toc_section_display": true,
   "toc_window_display": false
  }
 },
 "nbformat": 4,
 "nbformat_minor": 5
}
